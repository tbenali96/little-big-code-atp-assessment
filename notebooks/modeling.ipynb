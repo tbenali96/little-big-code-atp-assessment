{
 "cells": [
  {
   "cell_type": "markdown",
   "id": "5f995ee5",
   "metadata": {},
   "source": [
    "## Import des librairies"
   ]
  },
  {
   "cell_type": "code",
   "execution_count": null,
   "id": "91c32db2",
   "metadata": {},
   "outputs": [],
   "source": [
    "import pandas as pd \n",
    "from sklearn.model_selection import train_test_split\n",
    "from catboost import CatBoostClassifier\n",
    "from sklearn.metrics import classification_report\n",
    "from sklearn.ensemble import RandomForestClassifier\n",
    "from sklearn.model_selection import GridSearchCV\n",
    "from pickle import dump \n",
    "import lightgbm as lgb\n",
    "\n",
    "pd.set_option('display.max_columns', None)\n",
    "pd.set_option('display.max_rows', None)"
   ]
  },
  {
   "cell_type": "markdown",
   "id": "cacc1709",
   "metadata": {},
   "source": [
    "## Chargement des données"
   ]
  },
  {
   "cell_type": "code",
   "execution_count": null,
   "id": "39368029",
   "metadata": {},
   "outputs": [],
   "source": [
    "data = pd.read_csv(\"../data/processed/data_preprocessed.csv\")\n",
    "data_with_encoded_cat_columns = pd.read_csv(\"../data/processed/data_with_encoded_categories_preprocessed.csv\")"
   ]
  },
  {
   "cell_type": "code",
   "execution_count": null,
   "id": "5ff76223",
   "metadata": {},
   "outputs": [],
   "source": [
    "data.head();"
   ]
  },
  {
   "cell_type": "code",
   "execution_count": null,
   "id": "7344519f",
   "metadata": {},
   "outputs": [],
   "source": [
    "data_with_encoded_cat_columns.head();"
   ]
  },
  {
   "cell_type": "code",
   "execution_count": null,
   "id": "e7aef59c",
   "metadata": {},
   "outputs": [],
   "source": [
    "data.dtypes;"
   ]
  },
  {
   "cell_type": "code",
   "execution_count": null,
   "id": "3001a86e",
   "metadata": {},
   "outputs": [],
   "source": [
    "def preprocess(data):\n",
    "    data[[\"p1_id\", \"p2_id\"]] = data[[\"p1_id\", \"p2_id\"]].astype('category')\n",
    "    object_columns = data.select_dtypes(['object']).columns\n",
    "    data[object_columns] = data[object_columns].astype('category')\n",
    "    return data"
   ]
  },
  {
   "cell_type": "code",
   "execution_count": null,
   "id": "0100d060",
   "metadata": {},
   "outputs": [],
   "source": [
    "data = preprocess(data)\n",
    "data_with_encoded_cat_columns = preprocess(data_with_encoded_cat_columns)"
   ]
  },
  {
   "cell_type": "code",
   "execution_count": null,
   "id": "2f0b6b71",
   "metadata": {},
   "outputs": [],
   "source": [
    "X = data.drop(columns=['p1_won'])\n",
    "y = data['p1_won']"
   ]
  },
  {
   "cell_type": "code",
   "execution_count": null,
   "id": "b510194d",
   "metadata": {},
   "outputs": [],
   "source": [
    "categorical_columns = X.select_dtypes(['category']).columns"
   ]
  },
  {
   "cell_type": "code",
   "execution_count": null,
   "id": "cb6f5da1",
   "metadata": {},
   "outputs": [],
   "source": [
    "categorical_columns"
   ]
  },
  {
   "cell_type": "code",
   "execution_count": null,
   "id": "a078bae9",
   "metadata": {},
   "outputs": [],
   "source": [
    "categorical_indexes = []\n",
    "for element in categorical_columns:\n",
    "    categorical_indexes.append(X.columns.to_list().index(element))"
   ]
  },
  {
   "cell_type": "code",
   "execution_count": null,
   "id": "ec721e21",
   "metadata": {},
   "outputs": [],
   "source": [
    "X_lgb = data_with_encoded_cat_columns.drop(columns=['p1_won'])\n",
    "y_lgb = data_with_encoded_cat_columns['p1_won']"
   ]
  },
  {
   "cell_type": "markdown",
   "id": "ac9d8fe2",
   "metadata": {},
   "source": [
    "## Entraînement et Optimisation des modèles"
   ]
  },
  {
   "cell_type": "code",
   "execution_count": null,
   "id": "7d062900",
   "metadata": {},
   "outputs": [],
   "source": [
    "X_train, X_test, y_train, y_test = train_test_split(X, y, test_size=0.2, random_state=0)"
   ]
  },
  {
   "cell_type": "code",
   "execution_count": null,
   "id": "bfbfe882",
   "metadata": {},
   "outputs": [],
   "source": [
    "X_train_lgb, X_test_lgb, y_train_lgb, y_test_lgb = train_test_split(X_lgb, y_lgb, test_size=0.2, random_state=0)"
   ]
  },
  {
   "cell_type": "code",
   "execution_count": null,
   "id": "5238bb53",
   "metadata": {},
   "outputs": [],
   "source": [
    "grid = {'max_depth': [3,4,5],\n",
    "        'iterations': [500, 1000, 1500, 2000],\n",
    "        'learning_rate': [0.01, 0.005, 0.1, 0.05]}\n",
    "catboost_model = CatBoostClassifier(random_seed=0, cat_features=categorical_indexes, eval_metric=\"Precision\")"
   ]
  },
  {
   "cell_type": "code",
   "execution_count": null,
   "id": "54845561",
   "metadata": {},
   "outputs": [],
   "source": [
    "gscv_cat = GridSearchCV(estimator=catboost_model, param_grid=grid, scoring='precision', cv=5)"
   ]
  },
  {
   "cell_type": "code",
   "execution_count": null,
   "id": "f9cd4bc5",
   "metadata": {},
   "outputs": [],
   "source": [
    "gscv_cat.fit(X_train, y_train)"
   ]
  },
  {
   "cell_type": "code",
   "execution_count": null,
   "id": "2606e3ba",
   "metadata": {},
   "outputs": [],
   "source": [
    "gscv_cat.best_params_"
   ]
  },
  {
   "cell_type": "code",
   "execution_count": null,
   "id": "8e762593",
   "metadata": {},
   "outputs": [],
   "source": [
    "gscv_cat.best_score_"
   ]
  },
  {
   "cell_type": "code",
   "execution_count": null,
   "id": "5762aa75",
   "metadata": {},
   "outputs": [],
   "source": [
    "grid_lgb = {'max_depth': [3,4,5],\n",
    "        'n_estimators': [500, 1000, 1500, 2000],\n",
    "        'learning_rate': [0.01, 0.005, 0.1, 0.05]}\n",
    "lgb_model = lgb.LGBMClassifier(categorical_features=categorical_indexes, random_seed=0)"
   ]
  },
  {
   "cell_type": "code",
   "execution_count": null,
   "id": "2be8a5ad",
   "metadata": {},
   "outputs": [],
   "source": [
    "gscv_lgb = GridSearchCV(estimator=lgb_model, param_grid=grid_lgb, scoring='precision', cv=5)"
   ]
  },
  {
   "cell_type": "code",
   "execution_count": null,
   "id": "2c91b0fc",
   "metadata": {},
   "outputs": [],
   "source": [
    "gscv_lgb.fit(X_train_lgb, y_train_lgb)"
   ]
  },
  {
   "cell_type": "code",
   "execution_count": null,
   "id": "806709a7",
   "metadata": {},
   "outputs": [],
   "source": [
    "gscv_lgb.best_params_"
   ]
  },
  {
   "cell_type": "code",
   "execution_count": null,
   "id": "a2662c92",
   "metadata": {},
   "outputs": [],
   "source": [
    "gscv_lgb.best_score_"
   ]
  },
  {
   "cell_type": "markdown",
   "id": "c499041a",
   "metadata": {},
   "source": [
    "## Evaluation, Comparaison et Validation des modèles"
   ]
  },
  {
   "cell_type": "code",
   "execution_count": null,
   "id": "541294a1",
   "metadata": {},
   "outputs": [],
   "source": [
    "catboost_model = CatBoostClassifier(random_seed=0, \n",
    "                                    cat_features=categorical_indexes, \n",
    "                                    eval_metric=\"Precision\",\n",
    "                                    iterations=1500,\n",
    "                                    learning_rate=0.05,\n",
    "                                    max_depth=4)"
   ]
  },
  {
   "cell_type": "code",
   "execution_count": null,
   "id": "db100f0e",
   "metadata": {},
   "outputs": [],
   "source": [
    "catboost_model.fit(X_train, y_train);"
   ]
  },
  {
   "cell_type": "code",
   "execution_count": null,
   "id": "0f198fbf",
   "metadata": {},
   "outputs": [],
   "source": [
    "y_pred_catboost = catboost_model.predict(X_test)"
   ]
  },
  {
   "cell_type": "code",
   "execution_count": null,
   "id": "75ce694f",
   "metadata": {},
   "outputs": [],
   "source": [
    "print(classification_report(y_test, y_pred_catboost))"
   ]
  },
  {
   "cell_type": "code",
   "execution_count": null,
   "id": "b403046d",
   "metadata": {},
   "outputs": [],
   "source": [
    "lgb_model = lgb.LGBMClassifier(random_seed=0, \n",
    "                               categorical_features=categorical_indexes,\n",
    "                               learning_rate=0.005, \n",
    "                               max_depth=3,\n",
    "                               n_estimators=2000)"
   ]
  },
  {
   "cell_type": "code",
   "execution_count": null,
   "id": "be1bd705",
   "metadata": {},
   "outputs": [],
   "source": [
    "lgb_model.fit(X_train_lgb, y_train_lgb)"
   ]
  },
  {
   "cell_type": "code",
   "execution_count": null,
   "id": "94ddf903",
   "metadata": {},
   "outputs": [],
   "source": [
    "y_pred_lgb = lgb_model.predict(X_test_lgb)"
   ]
  },
  {
   "cell_type": "code",
   "execution_count": null,
   "id": "05b0a5ea",
   "metadata": {},
   "outputs": [],
   "source": [
    "print(classification_report(y_test_lgb, y_pred_lgb))"
   ]
  },
  {
   "cell_type": "code",
   "execution_count": null,
   "id": "31a6235a",
   "metadata": {},
   "outputs": [],
   "source": [
    "catboost_model.save_model('../models/catboost_model.pkl')"
   ]
  },
  {
   "cell_type": "code",
   "execution_count": null,
   "id": "2535083b",
   "metadata": {},
   "outputs": [],
   "source": [
    "lgb_model.booster_.save_model('../models/lgbm_model.pkl')"
   ]
  },
  {
   "cell_type": "code",
   "execution_count": null,
   "id": "56a30472",
   "metadata": {},
   "outputs": [],
   "source": [
    "pd.DataFrame({'columns': X.columns, 'feature_importance': catboost_model.feature_importances_}).sort_values(by=\"feature_importance\", ascending=False)"
   ]
  },
  {
   "cell_type": "code",
   "execution_count": null,
   "id": "640708c8",
   "metadata": {},
   "outputs": [],
   "source": [
    "pd.DataFrame({'columns': X.columns, 'feature_importance': lgb_model.feature_importances_}).sort_values(by=\"feature_importance\", ascending=False)"
   ]
  },
  {
   "cell_type": "code",
   "execution_count": null,
   "id": "6063ace1",
   "metadata": {},
   "outputs": [],
   "source": []
  }
 ],
 "metadata": {
  "kernelspec": {
   "display_name": "Python 3 (ipykernel)",
   "language": "python",
   "name": "python3"
  },
  "language_info": {
   "codemirror_mode": {
    "name": "ipython",
    "version": 3
   },
   "file_extension": ".py",
   "mimetype": "text/x-python",
   "name": "python",
   "nbconvert_exporter": "python",
   "pygments_lexer": "ipython3",
   "version": "3.9.7"
  }
 },
 "nbformat": 4,
 "nbformat_minor": 5
}
