{
 "cells": [
  {
   "cell_type": "markdown",
   "id": "a6f0191b",
   "metadata": {},
   "source": [
    "## Import des librairies "
   ]
  },
  {
   "cell_type": "code",
   "execution_count": null,
   "id": "98d7cfaa",
   "metadata": {},
   "outputs": [],
   "source": [
    "import pandas as pd \n",
    "import math\n",
    "import numpy as np \n",
    "import seaborn as sns \n",
    "import plotly.express as px\n",
    "from sklearn.preprocessing import StandardScaler, LabelEncoder\n",
    "from sklearn.impute import SimpleImputer\n",
    "from pickle import dump\n",
    "\n",
    "pd.set_option('display.max_columns', None)\n",
    "pd.set_option('display.max_rows', None)"
   ]
  },
  {
   "cell_type": "markdown",
   "id": "aa7243dd",
   "metadata": {},
   "source": [
    "## Chargement des données "
   ]
  },
  {
   "cell_type": "code",
   "execution_count": null,
   "id": "6b532c1f",
   "metadata": {},
   "outputs": [],
   "source": [
    "data = pd.read_csv(\"../data/raw/ATP_tweaked.csv\", sep=\";\")\n",
    "data.head();"
   ]
  },
  {
   "cell_type": "code",
   "execution_count": null,
   "id": "f3b0bcdb",
   "metadata": {},
   "outputs": [],
   "source": [
    "sample = data.head()\n",
    "sample = sample.drop(columns=['p1_won'])\n",
    "sample.to_csv(\"../data/test/sample.csv\", index=False)"
   ]
  },
  {
   "cell_type": "code",
   "execution_count": null,
   "id": "4e798c44",
   "metadata": {},
   "outputs": [],
   "source": [
    "print(f\"Le jeu de données contient {data.shape[0]} lignes et {data.shape[1]} colonnes.\")"
   ]
  },
  {
   "cell_type": "code",
   "execution_count": null,
   "id": "e4efc023",
   "metadata": {},
   "outputs": [],
   "source": [
    "fig = px.pie(data, names='p1_won', title='Proportion of winners and losers')\n",
    "fig.write_image(\"../visualizations/proportion_of_winners_and_losers.png\")"
   ]
  },
  {
   "cell_type": "markdown",
   "id": "3ff11302",
   "metadata": {},
   "source": [
    "**Concernant l'équilibre du jeu de données, on a autant de 1 et de 0 pour la variable cible. Dans le cas contraire, les valeurs de p1 et p2 sont interchangeables. On n'aurait pas eu besoin de faire du sur ou sous-échantillonnage pour équilibrer le dataset.**"
   ]
  },
  {
   "cell_type": "markdown",
   "id": "328066a1",
   "metadata": {},
   "source": [
    "Avant de commencer à explorer les données et à les pré-traiter, il faut d'abord comprendre les variables avec lesquelles on travaille. On commence par identifier les variables numériques et les variables catégorielles.  "
   ]
  },
  {
   "cell_type": "code",
   "execution_count": null,
   "id": "7c497fe2",
   "metadata": {},
   "outputs": [],
   "source": [
    "data.dtypes;"
   ]
  },
  {
   "cell_type": "code",
   "execution_count": null,
   "id": "9a939a4c",
   "metadata": {},
   "outputs": [],
   "source": [
    "object_columns = data.select_dtypes(['object']).columns\n",
    "data[object_columns] = data[object_columns].astype('category')\n",
    "data[[\"p1_rank\", \"p2_rank\"]] = data[[\"p1_rank\", \"p2_rank\"]].astype('category')"
   ]
  },
  {
   "cell_type": "markdown",
   "id": "e709daf3",
   "metadata": {},
   "source": [
    "Ensuite, on essaie de les explorer grâce à la data visualisation pour en sortir des insights intéréssants pour la phase de modélisation : "
   ]
  },
  {
   "cell_type": "code",
   "execution_count": null,
   "id": "b2fc3fa6",
   "metadata": {},
   "outputs": [],
   "source": [
    "fig = px.histogram(data, x='p1_rank', color=\"p1_won\", title='Distribution of the rankings of the players')\n",
    "fig.write_image(\"../visualizations/distribution_of_the_rankings_of_the_players.png\")"
   ]
  },
  {
   "cell_type": "code",
   "execution_count": null,
   "id": "6e27b799",
   "metadata": {},
   "outputs": [],
   "source": [
    "fig = px.histogram(data, x='tourney_level', pattern_shape=\"p1_won\", title=\"Histogram of tourney levels\")\n",
    "fig.write_image(\"../visualizations/histogram_of_tourney_levels.png\")"
   ]
  },
  {
   "cell_type": "code",
   "execution_count": null,
   "id": "0de85d5b",
   "metadata": {},
   "outputs": [],
   "source": [
    "fig = px.histogram(data, x='p1_ioc', color= \"p1_won\", pattern_shape=\"p1_won\", title=\"Histogram of players' countries\")\n",
    "fig.write_image(\"../visualizations/histogram_of_players_countries.png\")"
   ]
  },
  {
   "cell_type": "markdown",
   "id": "6827fc56",
   "metadata": {},
   "source": [
    "Le but du projet est de prédire le gagnant d'un match de tennis. On peut faire la prédiction avant ou pendant le match mais dans ce cas, l'accès à certaines données peut ou non être possible. \n",
    "\n",
    "Si on suppose que l'on cherche à prédire le gagnant du match avant le début du match, certaines données tels que la durée du match, le pourcentage de sets gagnants ou le nombre d'avantages etc ne sont pas disponibles. Les variables correspondantes à ces données ne sont donc pas pertinentes pour l'entraînement de notre modèle. \n",
    "\n",
    "On considère que ce sera le but de notre projet. Il est donc nécessaire de supprimer l'ensemble de ces variables avant de commencer le pré-traitement des variables restantes. "
   ]
  },
  {
   "cell_type": "code",
   "execution_count": null,
   "id": "868dc807",
   "metadata": {},
   "outputs": [],
   "source": [
    "unrelevant_columns = ['score', 'p1_df', 'p2_df', 'p1_bpFaced', 'p2_bpFaced', 'p1_bpSaved', 'p2_bpSaved',\n",
    "                      'p1_svpt', 'p2_svpt', 'p1_1stIn', 'p2_1stIn', 'p1_1stWon', 'p2_1stWon', 'p1_SvGms',\n",
    "                      'p2_SvGms', 'p1_2ndWon', 'p2_2ndWon', 'p1_ace', 'p2_ace', 'best_of', 'minutes']"
   ]
  },
  {
   "cell_type": "code",
   "execution_count": null,
   "id": "8201ad5c",
   "metadata": {},
   "outputs": [],
   "source": [
    "data = data.drop(columns=unrelevant_columns)\n",
    "data.head();"
   ]
  },
  {
   "cell_type": "markdown",
   "id": "6aff1660",
   "metadata": {},
   "source": [
    "## Gestion des valeurs manquantes "
   ]
  },
  {
   "cell_type": "code",
   "execution_count": null,
   "id": "73ff78e6",
   "metadata": {},
   "outputs": [],
   "source": [
    "percent_missing = data.isnull().sum() * 100 / len(data)\n",
    "missing_value_data = pd.DataFrame({'column_name': data.columns,\n",
    "                                 'percent_missing': percent_missing})"
   ]
  },
  {
   "cell_type": "code",
   "execution_count": null,
   "id": "09790ce6",
   "metadata": {},
   "outputs": [],
   "source": [
    "missing_value_data;"
   ]
  },
  {
   "cell_type": "markdown",
   "id": "27c2d397",
   "metadata": {},
   "source": [
    "Les colonnes avec plus de 80% de valeurs manquantes vont être supprimées."
   ]
  },
  {
   "cell_type": "code",
   "execution_count": null,
   "id": "b489b186",
   "metadata": {},
   "outputs": [],
   "source": [
    "missing_data_higher_than_80 = missing_value_data[missing_value_data.percent_missing > 80]\n",
    "missing_data_higher_than_80"
   ]
  },
  {
   "cell_type": "code",
   "execution_count": null,
   "id": "acbe771b",
   "metadata": {},
   "outputs": [],
   "source": [
    "columns_with_too_many_missing_values = missing_data_higher_than_80['column_name']\n",
    "columns_with_too_many_missing_values"
   ]
  },
  {
   "cell_type": "code",
   "execution_count": null,
   "id": "217ea85c",
   "metadata": {},
   "outputs": [],
   "source": [
    "data = data.drop(columns = columns_with_too_many_missing_values)\n",
    "data.shape"
   ]
  },
  {
   "cell_type": "code",
   "execution_count": null,
   "id": "32a2cff1",
   "metadata": {},
   "outputs": [],
   "source": [
    "data.head();"
   ]
  },
  {
   "cell_type": "markdown",
   "id": "bca3a3e6",
   "metadata": {},
   "source": [
    "Pour le reste des colonnes restantes, il faut adopter une autre stratégie pour gérer les valeurs manquantes. Pour les variables numériques, le plus simple est de remplacer les valeurs manquantes par les valeurs moyennes et pour les variables catégorielles, le plus simple est de remplacer par la valeur la plus récurrente : "
   ]
  },
  {
   "cell_type": "code",
   "execution_count": null,
   "id": "280cbde9",
   "metadata": {},
   "outputs": [],
   "source": [
    "numeric_columns = data.select_dtypes(['int64', 'float64']).columns"
   ]
  },
  {
   "cell_type": "code",
   "execution_count": null,
   "id": "125ecf19",
   "metadata": {},
   "outputs": [],
   "source": [
    "numeric_columns"
   ]
  },
  {
   "cell_type": "markdown",
   "id": "fab443bb",
   "metadata": {},
   "source": [
    "Les variables numériques `rank_points` dépendent des variables catégorielles `rank`. Par définition, les variables `seed` peuvent ne pas être définis pour tous les joueurs. On va traiter ces variables plus tard. "
   ]
  },
  {
   "cell_type": "code",
   "execution_count": null,
   "id": "fc4081a7",
   "metadata": {},
   "outputs": [],
   "source": [
    "percent_missing_numeric = data[numeric_columns].isnull().sum() * 100 / len(data[numeric_columns])\n",
    "missing_value_numeric_data = pd.DataFrame({'column_name': numeric_columns,\n",
    "                                 'percent_missing': percent_missing_numeric})"
   ]
  },
  {
   "cell_type": "code",
   "execution_count": null,
   "id": "d2670077",
   "metadata": {},
   "outputs": [],
   "source": [
    "missing_value_numeric_data[missing_value_numeric_data.percent_missing > 0];"
   ]
  },
  {
   "cell_type": "code",
   "execution_count": null,
   "id": "3b4368f3",
   "metadata": {},
   "outputs": [],
   "source": [
    "data['p1_age'] = data['p1_age'].fillna(data['p1_age'].mean())\n",
    "data['p2_age'] = data['p2_age'].fillna(data['p2_age'].mean())\n",
    "data['p1_ht'] = data['p1_ht'].fillna(data['p1_ht'].mean())\n",
    "data['p2_ht'] = data['p2_ht'].fillna(data['p2_ht'].mean())"
   ]
  },
  {
   "cell_type": "code",
   "execution_count": null,
   "id": "af38f86f",
   "metadata": {},
   "outputs": [],
   "source": [
    "categorical_columns = data.select_dtypes(['category']).columns\n",
    "percent_missing_categorical = data[categorical_columns].isnull().sum() * 100 / len(data[categorical_columns])\n",
    "missing_value_categorical_data = pd.DataFrame({'column_name': categorical_columns,\n",
    "                                 'percent_missing': percent_missing_categorical})"
   ]
  },
  {
   "cell_type": "code",
   "execution_count": null,
   "id": "757f6dca",
   "metadata": {},
   "outputs": [],
   "source": [
    "missing_value_categorical_data[missing_value_categorical_data.percent_missing > 0];"
   ]
  },
  {
   "cell_type": "code",
   "execution_count": null,
   "id": "bd9869a1",
   "metadata": {},
   "outputs": [],
   "source": [
    "imputer = SimpleImputer(missing_values=np.nan, strategy='most_frequent')\n",
    "imputer.fit(data[['p1_hand']])\n",
    "data['p1_hand'] = imputer.transform(data[['p1_hand']])"
   ]
  },
  {
   "cell_type": "code",
   "execution_count": null,
   "id": "21d587a4",
   "metadata": {},
   "outputs": [],
   "source": [
    "imputer = SimpleImputer(missing_values=np.nan, strategy='most_frequent')\n",
    "imputer.fit(data[['p2_hand']])\n",
    "data['p2_hand'] = imputer.transform(data[['p2_hand']])"
   ]
  },
  {
   "cell_type": "code",
   "execution_count": null,
   "id": "5e437eac",
   "metadata": {},
   "outputs": [],
   "source": [
    "data.p1_hand.unique()"
   ]
  },
  {
   "cell_type": "markdown",
   "id": "ccd8cb24",
   "metadata": {},
   "source": [
    "Les variables `p1_hand` et `p2_hand` prennent également 'U' comme valeur. C'est une valeur aberrante. Toutes les valeurs U seront donc remplacées par R."
   ]
  },
  {
   "cell_type": "code",
   "execution_count": null,
   "id": "2f1546b2",
   "metadata": {},
   "outputs": [],
   "source": [
    "data.loc[data.p1_hand == 'U', 'p1_hand'] = 'R'\n",
    "data.loc[data.p2_hand == 'U', 'p2_hand'] = 'R'\n",
    "data['p1_hand'] = data['p1_hand'].astype('category')\n",
    "data['p2_hand'] = data['p2_hand'].astype('category')"
   ]
  },
  {
   "cell_type": "code",
   "execution_count": null,
   "id": "dd1b1184",
   "metadata": {},
   "outputs": [],
   "source": [
    "columns_with_too_many_categories = []\n",
    "for column in categorical_columns: \n",
    "    if data[column].nunique() > 100:\n",
    "        columns_with_too_many_categories.append(column)"
   ]
  },
  {
   "cell_type": "markdown",
   "id": "fe828c59",
   "metadata": {},
   "source": [
    "Les variables catégorielles avec beaucoup de catégories vont être supprimées. "
   ]
  },
  {
   "cell_type": "code",
   "execution_count": null,
   "id": "33335ca4",
   "metadata": {},
   "outputs": [],
   "source": [
    "columns_with_too_many_categories"
   ]
  },
  {
   "cell_type": "code",
   "execution_count": null,
   "id": "eb40635f",
   "metadata": {},
   "outputs": [],
   "source": [
    "columns_to_keep = ['tourney_name', 'p1_rank', 'p2_rank']\n",
    "columns_with_too_many_categories = [e for e in columns_with_too_many_categories if e not in columns_to_keep]"
   ]
  },
  {
   "cell_type": "code",
   "execution_count": null,
   "id": "510b2d88",
   "metadata": {},
   "outputs": [],
   "source": [
    "data = data.drop(columns=columns_with_too_many_categories)"
   ]
  },
  {
   "cell_type": "code",
   "execution_count": null,
   "id": "4532c867",
   "metadata": {},
   "outputs": [],
   "source": [
    "data.head();"
   ]
  },
  {
   "cell_type": "markdown",
   "id": "c27124a4",
   "metadata": {},
   "source": [
    "## Feature Engineering"
   ]
  },
  {
   "cell_type": "code",
   "execution_count": null,
   "id": "8345fcac",
   "metadata": {},
   "outputs": [],
   "source": [
    "data[[\"p1_id\", \"p2_id\"]] = data[[\"p1_id\", \"p2_id\"]].astype('category')"
   ]
  },
  {
   "cell_type": "code",
   "execution_count": null,
   "id": "19f16e8c",
   "metadata": {},
   "outputs": [],
   "source": [
    "def extract_month(x):\n",
    "    return int(str(x)[4:6])"
   ]
  },
  {
   "cell_type": "code",
   "execution_count": null,
   "id": "52187952",
   "metadata": {},
   "outputs": [],
   "source": [
    "data['tourney_month'] = data['tourney_date'].apply(lambda x: extract_month(x))\n",
    "data.head();"
   ]
  },
  {
   "cell_type": "code",
   "execution_count": null,
   "id": "ffdbb393",
   "metadata": {},
   "outputs": [],
   "source": [
    "data = data.drop(columns=['tourney_date'])"
   ]
  },
  {
   "cell_type": "code",
   "execution_count": null,
   "id": "9464b3a2",
   "metadata": {},
   "outputs": [],
   "source": [
    "def is_seed_player(x):\n",
    "    if math.isnan(x):\n",
    "        return 0\n",
    "    return 1"
   ]
  },
  {
   "cell_type": "code",
   "execution_count": null,
   "id": "b5ffb92c",
   "metadata": {},
   "outputs": [],
   "source": [
    "data['p1_is_seed_player'] = data['p1_seed'].apply(lambda x: is_seed_player(x))"
   ]
  },
  {
   "cell_type": "code",
   "execution_count": null,
   "id": "9d54dc42",
   "metadata": {},
   "outputs": [],
   "source": [
    "data['p2_is_seed_player'] = data['p2_seed'].apply(lambda x: is_seed_player(x))"
   ]
  },
  {
   "cell_type": "code",
   "execution_count": null,
   "id": "0dd47037",
   "metadata": {},
   "outputs": [],
   "source": [
    "data.head();"
   ]
  },
  {
   "cell_type": "code",
   "execution_count": null,
   "id": "8834af80",
   "metadata": {},
   "outputs": [],
   "source": [
    "data = data.drop(columns=['p1_seed', 'p2_seed'])"
   ]
  },
  {
   "cell_type": "code",
   "execution_count": null,
   "id": "104aee12",
   "metadata": {},
   "outputs": [],
   "source": [
    "def define_rank(x):\n",
    "    if x < 31:\n",
    "        return 'Top 30'\n",
    "    elif x < 101:\n",
    "        return 'Top 30-100'\n",
    "    else :\n",
    "        return 'Under 100'"
   ]
  },
  {
   "cell_type": "code",
   "execution_count": null,
   "id": "b043867a",
   "metadata": {},
   "outputs": [],
   "source": [
    "data['p1_new_rank'] = data['p1_rank'].apply(lambda x: define_rank(x))\n",
    "data['p2_new_rank'] = data['p2_rank'].apply(lambda x: define_rank(x))"
   ]
  },
  {
   "cell_type": "code",
   "execution_count": null,
   "id": "c02bf7bc",
   "metadata": {},
   "outputs": [],
   "source": [
    "data = data.drop(columns=['p1_rank', 'p2_rank'])"
   ]
  },
  {
   "cell_type": "code",
   "execution_count": null,
   "id": "3ce8eed7",
   "metadata": {},
   "outputs": [],
   "source": [
    "fig = px.histogram(data, x='p2_new_rank')\n",
    "fig.write_image(\"../visualizations/distribution_of_the_players_2_type_of_rankings.png\")"
   ]
  },
  {
   "cell_type": "code",
   "execution_count": null,
   "id": "bacc18b9",
   "metadata": {},
   "outputs": [],
   "source": [
    "fig = px.histogram(data, x='p1_new_rank')\n",
    "fig.write_image(\"../visualizations/distribution_of_the_players_1_type_of_rankings.png\")"
   ]
  },
  {
   "cell_type": "code",
   "execution_count": null,
   "id": "8c7fec57",
   "metadata": {},
   "outputs": [],
   "source": [
    "imputer = SimpleImputer(missing_values=np.nan, strategy='most_frequent')\n",
    "imputer.fit(data[['p1_new_rank']])\n",
    "data['p1_new_rank'] = imputer.transform(data[['p1_new_rank']])\n",
    "data['p1_new_rank'] = data['p1_new_rank'].astype('category')"
   ]
  },
  {
   "cell_type": "code",
   "execution_count": null,
   "id": "79a57477",
   "metadata": {},
   "outputs": [],
   "source": [
    "imputer = SimpleImputer(missing_values=np.nan, strategy='most_frequent')\n",
    "imputer.fit(data[['p2_new_rank']])\n",
    "data['p2_new_rank'] = imputer.transform(data[['p2_new_rank']])\n",
    "data['p2_new_rank'] = data['p2_new_rank'].astype('category')"
   ]
  },
  {
   "cell_type": "code",
   "execution_count": null,
   "id": "158eba27",
   "metadata": {},
   "outputs": [],
   "source": [
    "imputer = SimpleImputer(missing_values=np.nan, strategy='mean')\n",
    "imputer.fit(data[data.p1_new_rank=='Top 30'][['p1_rank_points']])\n",
    "data.loc[data.p1_new_rank=='Top 30','p1_rank_points'] = imputer.transform(data[data.p1_new_rank=='Top 30'][['p1_rank_points']])"
   ]
  },
  {
   "cell_type": "code",
   "execution_count": null,
   "id": "35e00b1c",
   "metadata": {},
   "outputs": [],
   "source": [
    "imputer = SimpleImputer(missing_values=np.nan, strategy='mean')\n",
    "imputer.fit(data[data.p2_new_rank=='Top 30'][['p2_rank_points']])\n",
    "data.loc[data.p2_new_rank=='Top 30','p2_rank_points'] = imputer.transform(data[data.p2_new_rank=='Top 30'][['p2_rank_points']])"
   ]
  },
  {
   "cell_type": "code",
   "execution_count": null,
   "id": "5274e592",
   "metadata": {},
   "outputs": [],
   "source": [
    "imputer = SimpleImputer(missing_values=np.nan, strategy='mean')\n",
    "imputer.fit(data[data.p1_new_rank=='Top 30-100'][['p1_rank_points']])\n",
    "data.loc[data.p1_new_rank=='Top 30-100','p1_rank_points'] = imputer.transform(data[data.p1_new_rank=='Top 30-100'][['p1_rank_points']])"
   ]
  },
  {
   "cell_type": "code",
   "execution_count": null,
   "id": "8934994f",
   "metadata": {},
   "outputs": [],
   "source": [
    "imputer = SimpleImputer(missing_values=np.nan, strategy='mean')\n",
    "imputer.fit(data[data.p2_new_rank=='Top 30-100'][['p2_rank_points']])\n",
    "data.loc[data.p2_new_rank=='Top 30-100','p2_rank_points'] = imputer.transform(data[data.p2_new_rank=='Top 30-100'][['p2_rank_points']])"
   ]
  },
  {
   "cell_type": "code",
   "execution_count": null,
   "id": "04eb1069",
   "metadata": {},
   "outputs": [],
   "source": [
    "imputer = SimpleImputer(missing_values=np.nan, strategy='mean')\n",
    "imputer.fit(data[data.p1_new_rank=='Under 100'][['p1_rank_points']])\n",
    "data.loc[data.p1_new_rank=='Under 100','p1_rank_points'] = imputer.transform(data[data.p1_new_rank=='Under 100'][['p1_rank_points']])"
   ]
  },
  {
   "cell_type": "code",
   "execution_count": null,
   "id": "039ba84e",
   "metadata": {},
   "outputs": [],
   "source": [
    "imputer = SimpleImputer(missing_values=np.nan, strategy='mean')\n",
    "imputer.fit(data[data.p2_new_rank=='Under 100'][['p2_rank_points']])\n",
    "data.loc[data.p2_new_rank=='Under 100','p2_rank_points'] = imputer.transform(data[data.p2_new_rank=='Under 100'][['p2_rank_points']])"
   ]
  },
  {
   "cell_type": "code",
   "execution_count": null,
   "id": "67dd3c7c",
   "metadata": {},
   "outputs": [],
   "source": [
    "data.isnull().sum() * 100 / len(data);"
   ]
  },
  {
   "cell_type": "code",
   "execution_count": null,
   "id": "47edcaa7",
   "metadata": {},
   "outputs": [],
   "source": [
    "corrM = data.corr()\n",
    "fig = px.imshow(corrM, text_auto=True, aspect=\"auto\")\n",
    "fig.write_image(\"../visualizations/correlation_matrix.png\")"
   ]
  },
  {
   "cell_type": "markdown",
   "id": "c18c05bf",
   "metadata": {},
   "source": [
    "## Standardisation des variables numériques"
   ]
  },
  {
   "cell_type": "markdown",
   "id": "3a461646",
   "metadata": {},
   "source": [
    "On standardise les variables numériques : "
   ]
  },
  {
   "cell_type": "code",
   "execution_count": null,
   "id": "3b8cc7e7",
   "metadata": {},
   "outputs": [],
   "source": [
    "data.dtypes;"
   ]
  },
  {
   "cell_type": "code",
   "execution_count": null,
   "id": "477e250e",
   "metadata": {},
   "outputs": [],
   "source": [
    "X = data.drop(columns=['p1_won'])\n",
    "numeric_columns = X.select_dtypes(['int64', 'float64']).columns"
   ]
  },
  {
   "cell_type": "code",
   "execution_count": null,
   "id": "5212a00c",
   "metadata": {},
   "outputs": [],
   "source": [
    "numeric_columns"
   ]
  },
  {
   "cell_type": "code",
   "execution_count": null,
   "id": "d201bf37",
   "metadata": {},
   "outputs": [],
   "source": [
    "scaler = StandardScaler()\n",
    "scaler.fit(data[numeric_columns])"
   ]
  },
  {
   "cell_type": "code",
   "execution_count": null,
   "id": "248d03cb",
   "metadata": {},
   "outputs": [],
   "source": [
    "data[numeric_columns] = scaler.transform(data[numeric_columns])"
   ]
  },
  {
   "cell_type": "code",
   "execution_count": null,
   "id": "363ee7de",
   "metadata": {},
   "outputs": [],
   "source": [
    "data.head();"
   ]
  },
  {
   "cell_type": "code",
   "execution_count": null,
   "id": "ac947af7",
   "metadata": {},
   "outputs": [],
   "source": [
    "dump(scaler, open('../models/scaler.pkl', 'wb'))"
   ]
  },
  {
   "cell_type": "markdown",
   "id": "79bf00a2",
   "metadata": {},
   "source": [
    "## Labelisation des variables catégorielles pour les modèles ne les gérant pas par défaut"
   ]
  },
  {
   "cell_type": "code",
   "execution_count": null,
   "id": "25c3783f",
   "metadata": {},
   "outputs": [],
   "source": [
    "data.dtypes;"
   ]
  },
  {
   "cell_type": "code",
   "execution_count": null,
   "id": "65289b63",
   "metadata": {},
   "outputs": [],
   "source": [
    "final_categorical_columns = data.select_dtypes(['category']).columns"
   ]
  },
  {
   "cell_type": "code",
   "execution_count": null,
   "id": "f982a9e2",
   "metadata": {},
   "outputs": [],
   "source": [
    "data_with_encoded_categories = data.copy()"
   ]
  },
  {
   "cell_type": "code",
   "execution_count": null,
   "id": "fc5ca35f",
   "metadata": {},
   "outputs": [],
   "source": [
    "for column in final_categorical_columns:\n",
    "    encoder = LabelEncoder()\n",
    "    encoder.fit(data_with_encoded_categories[column])\n",
    "    data_with_encoded_categories[column] = encoder.transform(data_with_encoded_categories[column])\n",
    "    dump(scaler, open(f'../models/encoder-{column}.pkl', 'wb'))"
   ]
  },
  {
   "cell_type": "code",
   "execution_count": null,
   "id": "90f9ca4b",
   "metadata": {},
   "outputs": [],
   "source": [
    "data_with_encoded_categories.head();"
   ]
  },
  {
   "cell_type": "markdown",
   "id": "e9c4fe6a",
   "metadata": {},
   "source": [
    "## Enregistrement des données pré-traitées"
   ]
  },
  {
   "cell_type": "code",
   "execution_count": null,
   "id": "121b9252",
   "metadata": {},
   "outputs": [],
   "source": [
    "data.to_csv(\"../data/processed/data_preprocessed.csv\", index=False)"
   ]
  },
  {
   "cell_type": "code",
   "execution_count": null,
   "id": "7dfbc6f0",
   "metadata": {},
   "outputs": [],
   "source": [
    "data_with_encoded_categories.to_csv(\"../data/processed/data_with_encoded_categories_preprocessed.csv\", index=False)"
   ]
  },
  {
   "cell_type": "code",
   "execution_count": null,
   "id": "4c9a35d1",
   "metadata": {},
   "outputs": [],
   "source": [
    "data.columns"
   ]
  }
 ],
 "metadata": {
  "kernelspec": {
   "display_name": "Python 3 (ipykernel)",
   "language": "python",
   "name": "python3"
  },
  "language_info": {
   "codemirror_mode": {
    "name": "ipython",
    "version": 3
   },
   "file_extension": ".py",
   "mimetype": "text/x-python",
   "name": "python",
   "nbconvert_exporter": "python",
   "pygments_lexer": "ipython3",
   "version": "3.9.7"
  }
 },
 "nbformat": 4,
 "nbformat_minor": 5
}
